{
  "cells": [
    {
      "cell_type": "markdown",
      "id": "244bec32",
      "metadata": {},
      "source": []
    },
    {
      "cell_type": "code",
      "execution_count": 15,
      "id": "36534c9a",
      "metadata": {},
      "outputs": [
        {
          "name": "stdout",
          "output_type": "stream",
          "text": [
            "All orders: (28984, 5) | Last orders subset: (5487, 5)\n"
          ]
        }
      ],
      "source": [
        "import pandas as pd\n",
        "import numpy as np\n",
        "import itertools\n",
        "from collections import defaultdict\n",
        "from mlxtend.frequent_patterns import apriori, association_rules\n",
        "from sklearn.metrics.pairwise import cosine_similarity\n",
        "from pathlib import Path\n",
        "from tqdm import tqdm\n",
        "from sklearn.metrics import pairwise_distances\n",
        "\n",
        "all_orders = pd.read_csv('all_except_last_orders.csv')\n",
        "last_orders = pd.read_csv('last_orders_subset.csv')\n",
        "print('All orders:', all_orders.shape, '| Last orders subset:', last_orders.shape)"
      ]
    },
    {
      "cell_type": "code",
      "execution_count": 32,
      "id": "04f275af",
      "metadata": {},
      "outputs": [
        {
          "name": "stdout",
          "output_type": "stream",
          "text": [
            "Matrix shape: (2595, 632)\n"
          ]
        },
        {
          "data": {
            "text/plain": [
              "pandas.core.frame.DataFrame"
            ]
          },
          "execution_count": 32,
          "metadata": {},
          "output_type": "execute_result"
        }
      ],
      "source": [
        "# Order–Item matrix\n",
        "item_df= all_orders.copy()\n",
        "item_df['order_count'] = 1 \n",
        "item_df = item_df.groupby(['Order','SKU'])['order_count'].sum().reset_index()\n",
        "item_pivot = item_df.pivot( index='Order',\n",
        "                            columns='SKU',\n",
        "                            values = \"order_count\" \n",
        "                          ).fillna( 0 ).reset_index(drop=True)\n",
        "\n",
        "print('Matrix shape:', item_pivot.shape)\n",
        "type(item_pivot)"
      ]
    },
    {
      "cell_type": "code",
      "execution_count": 41,
      "id": "792ce73a",
      "metadata": {},
      "outputs": [
        {
          "data": {
            "text/plain": [
              "Member\n",
              "SWOZECO    347\n",
              "SWLLREW    239\n",
              "SWOEOHC    235\n",
              "SSSZCHS    211\n",
              "SWNORRH    206\n",
              "          ... \n",
              "SWLLZEO      8\n",
              "SWHONHS      8\n",
              "SWEENCL      8\n",
              "SWEEWEL      8\n",
              "SSCRESN      8\n",
              "Name: count, Length: 638, dtype: int64"
            ]
          },
          "execution_count": 41,
          "metadata": {},
          "output_type": "execute_result"
        }
      ],
      "source": [
        "all_orders.Member.value_counts()"
      ]
    },
    {
      "cell_type": "code",
      "execution_count": 17,
      "id": "cacead72",
      "metadata": {},
      "outputs": [],
      "source": [
        "# Association-Rule model\n",
        "# Step 1: Set minimum support threshold\n",
        "# This determines the minimum frequency of itemsets to be considered frequent\n",
        "min_support = 0.01\n",
        "\n",
        "# Step 2: Generate frequent itemsets using Apriori algorithm\n",
        "# This finds all itemsets that appear together frequently in the transactions\n",
        "# The 'use_colnames=True' parameter ensures we get actual item names instead of column indices\n",
        "frequent_itemsets = apriori(item_pivot, min_support=min_support, use_colnames=True)\n",
        "\n",
        "# Step 3: Generate association rules from frequent itemsets\n",
        "# Using lift as the metric (lift > 1 indicates positive association)\n",
        "# We set min_threshold=1.0 to only consider rules with positive association\n",
        "rules = association_rules(frequent_itemsets, metric='lift', min_threshold=1.0)\n",
        "\n",
        "# Step 4: Prepare rules for recommendation\n",
        "# Convert antecedents to frozenset for efficient lookup\n",
        "# Extract single consequent item (assuming one-to-one recommendations)\n",
        "rules['antecedents'] = rules['antecedents'].apply(lambda x: frozenset(x))\n",
        "rules['consequents'] = rules['consequents'].apply(lambda x: list(x)[0])\n",
        "\n",
        "# Step 5: Create recommendation map\n",
        "# Store recommendations in a dictionary for quick lookup\n",
        "rec_map_ar = defaultdict(list)\n",
        "for _, r in rules.sort_values('confidence', ascending=False).iterrows():\n",
        "    rec_map_ar[r['antecedents']].append(r['consequents'])\n",
        "\n",
        "# Step 6: Recommendation function\n",
        "# Takes a cart and returns top k recommendations\n",
        "def recommend_ar(cart, k=5):\n",
        "    # Get the valid set of SKUs in the cart\n",
        "    cart_set = frozenset(cart)\n",
        "\n",
        "    # Get the list of popular SKUs for fallback recommendations\n",
        "    pop = all_orders['SKU'].value_counts().index.tolist()\n",
        "\n",
        "    # Initialize output list\n",
        "    out = []\n",
        "\n",
        "    # Generate recommendations from larger to smaller subsets of cart\n",
        "    for sz in range(len(cart_set), 0, -1):\n",
        "        # Try all combinations of current subset size\n",
        "        for sub in itertools.combinations(cart_set, sz):\n",
        "            sub = frozenset(sub)\n",
        "\n",
        "            # If we have recommendations for this subset\n",
        "            if sub in rec_map_ar:\n",
        "                # Add recommendations that aren't already in cart or output\n",
        "                for it in rec_map_ar[sub]:\n",
        "                    if it not in cart_set and it not in out:\n",
        "                        out.append(it)\n",
        "                        if len(out) == k:\n",
        "                            return out\n",
        "\n",
        "    # If we haven't reached k recommendations yet, fall back to popular SKUs\n",
        "    for it in pop:\n",
        "        if it not in cart_set and it not in out:\n",
        "            out.append(it)\n",
        "        if len(out) == k: break\n",
        "\n",
        "    return out\n",
        "\n",
        "# Final Evaluation Score is coming at ~0.13"
      ]
    },
    {
      "cell_type": "code",
      "execution_count": 18,
      "id": "8dd813be",
      "metadata": {},
      "outputs": [],
      "source": [
        "# Collaborative Filtering \n",
        "# Get the list of most popular SKUs\n",
        "global_pop = all_orders['SKU'].value_counts().index.tolist()\n",
        "\n",
        "def recommend_cf(cart, k=5):\n",
        "    # Get the valid set of SKUs in the cart\n",
        "    valid_cart = [s for s in set(cart) if s in item_sim.index]\n",
        "    # valid_cart = [s for s in set(cart) if s in item_sim.index]\n",
        "    \n",
        "    # If the cart is empty, return the top k most popular SKUs\n",
        "    if not valid_cart:\n",
        "        return global_pop[:k]\n",
        "    \n",
        "    # Compute the average similarity score for each SKU in the cart\n",
        "    scores = item_sim.loc[valid_cart].mean(axis=0)\n",
        "    \n",
        "    # Drop the SKUs in the cart from the scores\n",
        "    scores = scores.drop(valid_cart, errors='ignore')\n",
        "    \n",
        "    # Sort the scores in descending order and return the top k SKUs\n",
        "    return scores.sort_values(ascending=False).head(k).index.tolist()\n"
      ]
    },
    {
      "cell_type": "code",
      "execution_count": 19,
      "id": "6e96906d",
      "metadata": {},
      "outputs": [],
      "source": [
        "# Validation util\n",
        "def recall_at_k(pred, actual, k=5):\n",
        "    \"\"\"\n",
        "    Calculate recall at k metric.\n",
        "\n",
        "    Parameters:\n",
        "    pred: List of recommended items\n",
        "    actual: List of hidden items (ground truth)\n",
        "    k: Number of top recommendations to consider\n",
        "\n",
        "    Returns:\n",
        "    Recall score (0.0 to 1.0) indicating how many hidden items were correctly recommended (TP/(TP+FN))\n",
        "    \"\"\"\n",
        "    # Convert actual items to set for efficient lookup\n",
        "    a = set(actual)\n",
        "    # Count how many of the top k recommendations match the hidden items\n",
        "    # Divide by the minimum of:\n",
        "    # - Number of hidden items (since we can't recommend more than exist)\n",
        "    # - k (since we're only looking at top k recommendations)\n",
        "    return len([x for x in pred[:k] if x in a]) / min(len(a), k) if a else 0\n",
        "\n",
        "def evaluate(fn, frac=0.3, seed=42):\n",
        "    \"\"\"\n",
        "    Evaluate the recommendation system's performance using recall@k metric.\n",
        "\n",
        "    Parameters:\n",
        "    fn: The recommendation function to evaluate (e.g., recommend_ar or recommend_cf)\n",
        "    frac: Fraction of orders to sample for evaluation\n",
        "    seed: Random seed for reproducibility\n",
        "    \"\"\"\n",
        "    # Set random seed to ensure reproducible results\n",
        "    np.random.seed(seed)\n",
        "    # Prepare the evaluation data\n",
        "    # Group orders by their SKUs and convert to lists\n",
        "    # Sample a fraction of orders for evaluation\n",
        "    sampled = all_orders.groupby('Order')['SKU'].apply(list).sample(frac=frac, random_state=seed)\n",
        "    # List to store recall scores for each order\n",
        "    scores = []\n",
        "    # Main evaluation loop over sampled orders\n",
        "    for skus in sampled:\n",
        "        # Skip orders with less than 2 items since we need at least one item to hide\n",
        "        if len(skus) < 2: continue\n",
        "        # Split the order into hidden and observed items\n",
        "        # Hide approximately 1/3 of the items (minimum 1 item)\n",
        "        # This simulates the scenario where we have partial cart information\n",
        "        # and need to predict what other items the customer might buy\n",
        "        hid = np.random.choice(skus, size=max(1, len(skus)//3), replace=False)\n",
        "        # The remaining items become our \"observed\" cart\n",
        "        # These are the items we'll use to generate recommendations\n",
        "        obs = [x for x in skus if x not in hid]\n",
        "        # Calculate recall for this order\n",
        "        # fn(obs) generates recommendations based on the observed items\n",
        "        # hid contains the items that were hidden (ground truth)\n",
        "        # recall_at_k measures how many hidden items were correctly recommended\n",
        "        scores.append(recall_at_k(fn(obs), hid))\n",
        "    # Return the average recall across all sampled orders\n",
        "    # If no valid scores were calculated (empty list), return 0.0\n",
        "    return np.mean(scores) if scores else 0.0\n"
      ]
    },
    {
      "cell_type": "code",
      "execution_count": 20,
      "id": "bbdca0dc",
      "metadata": {},
      "outputs": [
        {
          "name": "stdout",
          "output_type": "stream",
          "text": [
            "cosine : 0.2781705227077978\n",
            "correlation : 0.33541131105398464\n",
            "sokalmichener : 0.00651242502142245\n",
            "canberra : 0.00651242502142245\n",
            "yule : 0.47688517566409594\n",
            "jaccard : 0.2501285347043702\n",
            "seuclidean : 0.006298200514138817\n",
            "matching : 0.006833761782347901\n",
            "l1 : 0.00651242502142245\n",
            "manhattan : 0.00651242502142245\n",
            "l2 : 0.006405312767780633\n",
            "cityblock : 0.00651242502142245\n",
            "braycurtis : 0.2571122536418166\n",
            "rogerstanimoto : 0.00651242502142245\n",
            "dice : 0.2571122536418166\n",
            "nan_euclidean : 0.006405312767780633\n",
            "minkowski : 0.006405312767780633\n",
            "russellrao : 0.18221936589545842\n",
            "euclidean : 0.006405312767780633\n",
            "sqeuclidean : 0.00651242502142245\n",
            "chebyshev : 0.002506426735218509\n",
            "hamming : 0.006833761782347901\n",
            "sokalsneath : 0.24907883461868038\n",
            "best_metric: yule  Score: 0.47688517566409594\n"
          ]
        }
      ],
      "source": [
        "## to be deleted before submission\n",
        "import warnings\n",
        "warnings.filterwarnings(\"ignore\")\n",
        "\n",
        "mthd = ['cosine', 'correlation', 'sokalmichener', 'canberra'\n",
        ", 'yule', 'jaccard', 'seuclidean'\n",
        ", 'matching', 'l1', 'manhattan', 'l2', 'cityblock', 'braycurtis'\n",
        ", 'rogerstanimoto', 'dice', 'nan_euclidean', 'minkowski'\n",
        ", 'russellrao', 'euclidean', 'sqeuclidean', 'chebyshev', 'hamming'\n",
        ", 'sokalsneath']\n",
        "\n",
        "best_distancte_metric = []                            \n",
        "for i in mthd:\n",
        "    item_sim = pd.DataFrame(1-pairwise_distances( item_pivot.T.to_numpy(), metric=i ) , \n",
        "                            index=item_pivot.columns, \n",
        "                            columns=item_pivot.columns) \n",
        "    s_cf = evaluate(recommend_cf)\n",
        "    best_distancte_metric.append({\"metric\": i, \"score\": s_cf})\n",
        "    print(i, \":\", s_cf) \n",
        "\n",
        "best_distancte_metric = pd.DataFrame(best_distancte_metric)\n",
        "best_distancte_metric = best_distancte_metric.sort_values(by='score', ascending=False).head(1)\n",
        "best_metric = best_distancte_metric.metric.values[0]\n",
        "\n",
        "print(\"best_metric:\", best_metric, \" Score:\", best_distancte_metric.score.values[0])"
      ]
    },
    {
      "cell_type": "code",
      "execution_count": 21,
      "id": "e27264b4",
      "metadata": {},
      "outputs": [],
      "source": [
        "# # Item-CF model \n",
        "\n",
        "# best pair wise distance metric - Yule\n",
        "# item_sim = pd.DataFrame(1-pairwise_distances( item_pivot.T.to_numpy(), metric=best_metric ) , \n",
        "#                         index=item_pivot.columns, \n",
        "#                         columns=item_pivot.columns)\n",
        "# Final Evaluation Score is coming at 0.10559\n",
        "\n",
        "# item_sim = 1 - pd.DataFrame(pairwise_distances( item_pivot.T.to_numpy(), metric=\"correlation\" )) \n",
        "# Final Evaluation Score is coming at 0.08174\n",
        "\n",
        "# item_sim = 1 - pd.DataFrame(pairwise_distances( item_pivot.T.to_numpy(), metric=\"jaccard\" )) \n",
        "# Final Evaluation Score is coming at ~0.08\n",
        "\n",
        "# Cosine Similarity\n",
        "item_sim = pd.DataFrame(cosine_similarity(item_pivot.T), \n",
        "                        index=item_pivot.columns, \n",
        "                        columns=item_pivot.columns)\n",
        "# Final Evaluation Score is coming at 0.17986"
      ]
    },
    {
      "cell_type": "code",
      "execution_count": 22,
      "id": "e3ddd854",
      "metadata": {},
      "outputs": [
        {
          "name": "stdout",
          "output_type": "stream",
          "text": [
            "Recall @ 5 basket size – \n",
            " Association Rule Method: 0.1430 \n",
            " Collaborative Filtering: 0.2782  \n",
            " Best: Collaborative Filtering\n"
          ]
        }
      ],
      "source": [
        "s_ar = evaluate(recommend_ar)\n",
        "s_cf = evaluate(recommend_cf)\n",
        "best = 'Collaborative Filtering' if s_cf > s_ar else 'Association Rule Method'\n",
        "print(f'Recall @ 5 basket size – \\n Association Rule Method: {s_ar:.4f} \\n Collaborative Filtering: {s_cf:.4f}  \\n Best: {best}')"
      ]
    },
    {
      "cell_type": "code",
      "execution_count": 23,
      "id": "86e4b693",
      "metadata": {},
      "outputs": [
        {
          "name": "stdout",
          "output_type": "stream",
          "text": [
            "Wrote Group_11_rec_5_sets.csv\n"
          ]
        }
      ],
      "source": [
        "# Generate final recommendations using the best method\n",
        "# (either Association Rule Method or Collaborative Filtering)\n",
        "rec_fn = recommend_ar if best=='Association Rule Method' else recommend_cf\n",
        "\n",
        "# Initialize output list\n",
        "rows = []\n",
        "\n",
        "# Loop over each order in the last orders subset\n",
        "# and generate recommendations for each order\n",
        "for (member, order), g in last_orders.groupby(['Member','Order']):\n",
        "    cart = g['SKU'].tolist()  # get the items in the order\n",
        "    for sku in rec_fn(cart):  # generate recommendations for the order\n",
        "        rows.append({'Member':member, 'Order':order, 'SKU':sku})  # append to output list\n",
        "\n",
        "# Convert output list to DataFrame\n",
        "out = pd.DataFrame(rows)\n",
        "\n",
        "# Reset index and add 'ID' column\n",
        "# (required for submission format)\n",
        "out = out.reset_index(drop=False).rename(columns={'index':'ID'})\n",
        "out['ID'] = (out['ID']+1).astype(int)\n",
        "\n",
        "# Verify that the output file has the correct format\n",
        "assert out['ID'].min()==1\n",
        "assert out.groupby('Order').size().eq(5).all()\n",
        "\n",
        "# Write output to file\n",
        "out_file = f'Group_11_rec_5_sets.csv'\n",
        "out.to_csv(out_file, index=False)\n",
        "print('Wrote', out_file)"
      ]
    },
    {
      "cell_type": "code",
      "execution_count": 24,
      "id": "df6174e8",
      "metadata": {},
      "outputs": [
        {
          "data": {
            "text/html": [
              "<div>\n",
              "<style scoped>\n",
              "    .dataframe tbody tr th:only-of-type {\n",
              "        vertical-align: middle;\n",
              "    }\n",
              "\n",
              "    .dataframe tbody tr th {\n",
              "        vertical-align: top;\n",
              "    }\n",
              "\n",
              "    .dataframe thead th {\n",
              "        text-align: right;\n",
              "    }\n",
              "</style>\n",
              "<table border=\"1\" class=\"dataframe\">\n",
              "  <thead>\n",
              "    <tr style=\"text-align: right;\">\n",
              "      <th></th>\n",
              "      <th>ID</th>\n",
              "      <th>Member</th>\n",
              "      <th>Order</th>\n",
              "      <th>SKU</th>\n",
              "    </tr>\n",
              "  </thead>\n",
              "  <tbody>\n",
              "    <tr>\n",
              "      <th>0</th>\n",
              "      <td>1</td>\n",
              "      <td>SSCEHNS</td>\n",
              "      <td>8069966</td>\n",
              "      <td>15669780</td>\n",
              "    </tr>\n",
              "    <tr>\n",
              "      <th>1</th>\n",
              "      <td>2</td>\n",
              "      <td>SSCEHNS</td>\n",
              "      <td>8069966</td>\n",
              "      <td>15669878</td>\n",
              "    </tr>\n",
              "    <tr>\n",
              "      <th>2</th>\n",
              "      <td>3</td>\n",
              "      <td>SSCEHNS</td>\n",
              "      <td>8069966</td>\n",
              "      <td>15669772</td>\n",
              "    </tr>\n",
              "    <tr>\n",
              "      <th>3</th>\n",
              "      <td>4</td>\n",
              "      <td>SSCEHNS</td>\n",
              "      <td>8069966</td>\n",
              "      <td>15669760</td>\n",
              "    </tr>\n",
              "    <tr>\n",
              "      <th>4</th>\n",
              "      <td>5</td>\n",
              "      <td>SSCEHNS</td>\n",
              "      <td>8069966</td>\n",
              "      <td>15669777</td>\n",
              "    </tr>\n",
              "  </tbody>\n",
              "</table>\n",
              "</div>"
            ],
            "text/plain": [
              "   ID   Member    Order       SKU\n",
              "0   1  SSCEHNS  8069966  15669780\n",
              "1   2  SSCEHNS  8069966  15669878\n",
              "2   3  SSCEHNS  8069966  15669772\n",
              "3   4  SSCEHNS  8069966  15669760\n",
              "4   5  SSCEHNS  8069966  15669777"
            ]
          },
          "execution_count": 24,
          "metadata": {},
          "output_type": "execute_result"
        }
      ],
      "source": [
        "out.head()\n"
      ]
    }
  ],
  "metadata": {
    "kernelspec": {
      "display_name": "base",
      "language": "python",
      "name": "python3"
    },
    "language_info": {
      "codemirror_mode": {
        "name": "ipython",
        "version": 3
      },
      "file_extension": ".py",
      "mimetype": "text/x-python",
      "name": "python",
      "nbconvert_exporter": "python",
      "pygments_lexer": "ipython3",
      "version": "3.12.2"
    }
  },
  "nbformat": 4,
  "nbformat_minor": 5
}
